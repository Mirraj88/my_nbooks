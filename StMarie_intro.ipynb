{
 "cells": [
  {
   "cell_type": "markdown",
   "id": "cbdff74a-c85d-4df3-b7c2-4553387a38c6",
   "metadata": {},
   "source": [
    "# Heading"
   ]
  },
  {
   "cell_type": "markdown",
   "id": "9bca9a7b-c8e1-499f-8fcd-4cf06cece6e1",
   "metadata": {},
   "source": [
    "## Nicole St. Marie"
   ]
  },
  {
   "cell_type": "code",
   "execution_count": 48,
   "id": "11f8b055-2960-4cb1-ad0b-e9f1c92b9650",
   "metadata": {},
   "outputs": [],
   "source": [
    "import random\n",
    "num = [random.randrange(30, 100, 1) for i in range(40)]"
   ]
  },
  {
   "cell_type": "code",
   "execution_count": 57,
   "id": "f01f6b04-83d6-4c7e-85de-58598f0cfcf8",
   "metadata": {},
   "outputs": [],
   "source": [
    "list.sort(num)"
   ]
  },
  {
   "cell_type": "code",
   "execution_count": 60,
   "id": "f10c9cd3-d375-4fde-bd57-3fa3a33a896d",
   "metadata": {},
   "outputs": [
    {
     "name": "stdout",
     "output_type": "stream",
     "text": [
      "31 32 32 33 34 38 38 38 39 46 47 50 51 51 53 56 56 58 58 59 61 63 66 68 72 74 75 78 80 81 82 84 90 92 95 95 95 97 98 99 "
     ]
    }
   ],
   "source": [
    "for i in num: \n",
    "     print(i,end=\" \")"
   ]
  },
  {
   "cell_type": "markdown",
   "id": "fc681579-dddd-4592-bf58-b5ddfe188b81",
   "metadata": {},
   "source": [
    "## The Sample Mean\n",
    "<ul>\n",
    "<li>add all sample numbers</li>\n",
    "<li>divide total sample numbers by number of samples</li>\n",
    "</ul>"
   ]
  },
  {
   "cell_type": "markdown",
   "id": "a14cebdb-fbc1-41a8-8c40-32ef07ff90da",
   "metadata": {},
   "source": [
    "$\\overline{X} = \\frac{\\sum x_{i}}{n}$"
   ]
  },
  {
   "cell_type": "code",
   "execution_count": 113,
   "id": "7b31c328-f32d-4abb-8cd2-e864eee196b4",
   "metadata": {},
   "outputs": [
    {
     "data": {
      "text/plain": [
       "'63.62'"
      ]
     },
     "execution_count": 113,
     "metadata": {},
     "output_type": "execute_result"
    }
   ],
   "source": [
    "mean = sum(num)/40\n",
    "f'{mean:.2f}'"
   ]
  },
  {
   "cell_type": "markdown",
   "id": "35d2825e-dad1-419e-864f-aef51bc4f88d",
   "metadata": {},
   "source": [
    "## The Median\n",
    "<a href=\"https://mathworld.wolfram.com/StatisticalMedian.html\">statistical median</a>"
   ]
  },
  {
   "cell_type": "code",
   "execution_count": 132,
   "id": "c33c1130-ff5d-4d4a-b9f6-c990db485f54",
   "metadata": {},
   "outputs": [
    {
     "data": {
      "text/plain": [
       "'60.0'"
      ]
     },
     "execution_count": 132,
     "metadata": {},
     "output_type": "execute_result"
    }
   ],
   "source": [
    "# If there is an even number of values, the median is calculated by adding the two middle values and dividing by 2\n",
    "x = len(num)\n",
    "\n",
    "if x % 2 == 0:\n",
    "    median1 = num[x//2]\n",
    "    median2 = num[x//2 - 1]\n",
    "    median = (median1 + median2)/2\n",
    "else:\n",
    "    median = num[x//2]\n",
    "\n",
    "f'{median:.1f}'"
   ]
  },
  {
   "cell_type": "code",
   "execution_count": null,
   "id": "ceb14f63-ef24-42e7-9102-16bc55166b01",
   "metadata": {},
   "outputs": [],
   "source": []
  }
 ],
 "metadata": {
  "kernelspec": {
   "display_name": "Python 3 (ipykernel)",
   "language": "python",
   "name": "python3"
  },
  "language_info": {
   "codemirror_mode": {
    "name": "ipython",
    "version": 3
   },
   "file_extension": ".py",
   "mimetype": "text/x-python",
   "name": "python",
   "nbconvert_exporter": "python",
   "pygments_lexer": "ipython3",
   "version": "3.9.12"
  }
 },
 "nbformat": 4,
 "nbformat_minor": 5
}
